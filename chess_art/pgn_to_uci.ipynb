{
 "cells": [
  {
   "cell_type": "code",
   "execution_count": 1,
   "metadata": {},
   "outputs": [],
   "source": [
    "import chess\n",
    "import chess.pgn\n",
    "import io\n",
    "import requests"
   ]
  },
  {
   "cell_type": "code",
   "execution_count": 2,
   "metadata": {},
   "outputs": [],
   "source": [
    "url = \"https://raw.githubusercontent.com/niklasf/python-chess/master/data/pgn/kasparov-deep-blue-1997.pgn\""
   ]
  },
  {
   "cell_type": "code",
   "execution_count": 3,
   "metadata": {},
   "outputs": [
    {
     "name": "stdout",
     "output_type": "stream",
     "text": [
      "[Event \"IBM Man-Machine, New York USA\"]\n",
      "[Site \"01\"]\n",
      "[Date \"1997.??.??\"]\n",
      "[EventDate \"?\"]\n",
      "[Round \"?\"]\n",
      "[Result \"1-0\"]\n",
      "[White \"Garry Kasparov\"]\n",
      "[Black \"Deep Blue (Computer)\"]\n",
      "[ECO \"A06\"]\n",
      "[WhiteElo \"?\"]\n",
      "[BlackElo \"?\"]\n",
      "[PlyCount \"89\"]\n",
      "\n",
      "1.Nf3 d5 2.g3 Bg4 3.b3 Nd7 4.Bb2 e6 5.Bg2 Ngf6 6.O-O c6 7.d3\n",
      "Bd6 8.Nbd2 O-O 9.h3 Bh5 10.e3 h6 11.Qe1 Qa5 12.a3 Bc7 13.Nh4\n",
      "g5 14.Nhf3 e5 15.e4 Rfe8 16.Nh2 Qb6 17.Qc1 a5 18.Re1 Bd6\n",
      "19.Ndf1 dxe4 20.dxe4 Bc5 21.Ne3 Rad8 22.Nhf1 g4 23.hxg4 Nxg4\n",
      "24.f3 Nxe3 25.Nxe3 Be7 26.Kh1 Bg5 27.Re2 a4 28.b4 f5 29.exf5\n",
      "e4 30.f4 Bxe2 31.fxg5 Ne5 32.g6 Bf3 33.Bc3 Qb5 34.Qf1 Qxf1+\n",
      "35.Rxf1 h5 36.Kg1 Kf8 37.Bh3 b5 38.Kf2 Kg7 39.g4 Kh6 40.Rg1\n",
      "hxg4 41.Bxg4 Bxg4 42.Nxg4+ Nxg4+ 43.Rxg4 Rd5 44.f6 Rd1 45.g7\n",
      "1-0\n",
      "\n",
      "[Event \"IBM Man-Machine, New York USA\"]\n",
      "[Site \"02\"]\n",
      "[Date \"1997.??.??\"]\n",
      "[EventDate \"?\"]\n",
      "[Round \"?\"]\n",
      "[Result \"1-0\"]\n",
      "[White \"Deep Blue (Computer)\"]\n",
      "[Black \"Garry Kasparov\"]\n",
      "[ECO \"C93\"]\n",
      "[WhiteElo \"?\"]\n",
      "[BlackElo \"?\"]\n",
      "[PlyCount \"89\"]\n",
      "\n",
      "1.e4 e5 2.Nf3 Nc6 3.Bb5 a6 4.Ba4 Nf6 5.O-O Be7 6.Re1 b5 7.Bb3\n",
      "d6 8.c3 O-O 9.h3 h6 10.d4 Re8 11.Nbd2 Bf8 12.Nf1 Bd7 13.Ng3\n",
      "Na5 14.Bc2 c5 15.b3 Nc6 16.d5 Ne7 17.Be3 Ng6 18.Qd2 Nh7 19.a4\n",
      "Nh4 20.Nxh4 Qxh4 21.Qe2 Qd8 22.b4 Qc7 23.Rec1 c4 24.Ra3 Rec8\n",
      "25.Rca1 Qd8 26.f4 Nf6 27.fxe5 dxe5 28.Qf1 Ne8 29.Qf2 Nd6\n",
      "30.Bb6 Qe8 31.R3a2 Be7 32.Bc5 Bf8 33.Nf5 Bxf5 34.exf5 f6\n",
      "35.Bxd6 Bxd6 36.axb5 axb5 37.Be4 Rxa2 38.Qxa2 Qd7 39.Qa7 Rc7\n",
      "40.Qb6 Rb7 41.Ra8+ Kf7 42.Qa6 Qc7 43.Qc6 Qb6+ 44.Kf1 Rb8\n",
      "45.Ra6 1-0\n",
      "\n",
      "[Event \"IBM Man-Machine, New York USA\"]\n",
      "[Site \"03\"]\n",
      "[Date \"1997.??.??\"]\n",
      "[EventDate \"?\"]\n",
      "[Round \"?\"]\n",
      "[Result \"1/2-1/2\"]\n",
      "[White \"Garry Kasparov\"]\n",
      "[Black \"Deep Blue (Computer)\"]\n",
      "[ECO \"A00\"]\n",
      "[WhiteElo \"?\"]\n",
      "[BlackElo \"?\"]\n",
      "[PlyCount \"95\"]\n",
      "\n",
      "1.d3 e5 2.Nf3 Nc6 3.c4 Nf6 4.a3 d6 5.Nc3 Be7 6.g3 O-O 7.Bg2\n",
      "Be6 8.O-O Qd7 9.Ng5 Bf5 10.e4 Bg4 11.f3 Bh5 12.Nh3 Nd4 13.Nf2\n",
      "h6 14.Be3 c5 15.b4 b6 16.Rb1 Kh8 17.Rb2 a6 18.bxc5 bxc5 19.Bh3\n",
      "Qc7 20.Bg4 Bg6 21.f4 exf4 22.gxf4 Qa5 23.Bd2 Qxa3 24.Ra2 Qb3\n",
      "25.f5 Qxd1 26.Bxd1 Bh7 27.Nh3 Rfb8 28.Nf4 Bd8 29.Nfd5 Nc6\n",
      "30.Bf4 Ne5 31.Ba4 Nxd5 32.Nxd5 a5 33.Bb5 Ra7 34.Kg2 g5\n",
      "35.Bxe5+ dxe5 36.f6 Bg6 37.h4 gxh4 38.Kh3 Kg8 39.Kxh4 Kh7\n",
      "40.Kg4 Bc7 41.Nxc7 Rxc7 42.Rxa5 Rd8 43.Rf3 Kh8 44.Kh4 Kg8\n",
      "45.Ra3 Kh8 46.Ra6 Kh7 47.Ra3 Kh8 48.Ra6 1/2-1/2\n",
      "\n",
      "[Event \"IBM Man-Machine, New York USA\"]\n",
      "[Site \"04\"]\n",
      "[Date \"1997.??.??\"]\n",
      "[EventDate \"?\"]\n",
      "[Round \"?\"]\n",
      "[Result \"1/2-1/2\"]\n",
      "[White \"Deep Blue (Computer)\"]\n",
      "[Black \"Garry Kasparov\"]\n",
      "[ECO \"B10\"]\n",
      "[WhiteElo \"?\"]\n",
      "[BlackElo \"?\"]\n",
      "[PlyCount \"111\"]\n",
      "\n",
      "1.e4 c6 2.d4 d6 3.Nf3 Nf6 4.Nc3 Bg4 5.h3 Bh5 6.Bd3 e6 7.Qe2 d5\n",
      "8.Bg5 Be7 9.e5 Nfd7 10.Bxe7 Qxe7 11.g4 Bg6 12.Bxg6 hxg6 13.h4\n",
      "Na6 14.O-O-O O-O-O 15.Rdg1 Nc7 16.Kb1 f6 17.exf6 Qxf6 18.Rg3\n",
      "Rde8 19.Re1 Rhf8 20.Nd1 e5 21.dxe5 Qf4 22.a3 Ne6 23.Nc3 Ndc5\n",
      "24.b4 Nd7 25.Qd3 Qf7 26.b5 Ndc5 27.Qe3 Qf4 28.bxc6 bxc6 29.Rd1\n",
      "Kc7 30.Ka1 Qxe3 31.fxe3 Rf7 32.Rh3 Ref8 33.Nd4 Rf2 34.Rb1 Rg2\n",
      "35.Nce2 Rxg4 36.Nxe6+ Nxe6 37.Nd4 Nxd4 38.exd4 Rxd4 39.Rg1 Rc4\n",
      "40.Rxg6 Rxc2 41.Rxg7+ Kb6 42.Rb3+ Kc5 43.Rxa7 Rf1+ 44.Rb1 Rff2\n",
      "45.Rb4 Rc1+ 46.Rb1 Rcc2 47.Rb4 Rc1+ 48.Rb1 Rxb1+ 49.Kxb1 Re2\n",
      "50.Re7 Rh2 51.Rh7 Kc4 52.Rc7 c5 53.e6 Rxh4 54.e7 Re4 55.a4 Kb3\n",
      "56.Kc1 1/2-1/2\n",
      "\n",
      "[Event \"IBM Man-Machine, New York USA\"]\n",
      "[Site \"05\"]\n",
      "[Date \"1997.??.??\"]\n",
      "[EventDate \"?\"]\n",
      "[Round \"?\"]\n",
      "[Result \"1/2-1/2\"]\n",
      "[White \"Garry Kasparov\"]\n",
      "[Black \"Deep Blue (Computer)\"]\n",
      "[ECO \"A07\"]\n",
      "[WhiteElo \"?\"]\n",
      "[BlackElo \"?\"]\n",
      "[PlyCount \"98\"]\n",
      "\n",
      "1.Nf3 d5 2.g3 Bg4 3.Bg2 Nd7 4.h3 Bxf3 5.Bxf3 c6 6.d3 e6 7.e4\n",
      "Ne5 8.Bg2 dxe4 9.Bxe4 Nf6 10.Bg2 Bb4+ 11.Nd2 h5 12.Qe2 Qc7\n",
      "13.c3 Be7 14.d4 Ng6 15.h4 e5 16.Nf3 exd4 17.Nxd4 O-O-O 18.Bg5\n",
      "Ng4 19.O-O-O Rhe8 20.Qc2 Kb8 21.Kb1 Bxg5 22.hxg5 N6e5 23.Rhe1\n",
      "c5 24.Nf3 Rxd1+ 25.Rxd1 Nc4 26.Qa4 Rd8 27.Re1 Nb6 28.Qc2 Qd6\n",
      "29.c4 Qg6 30.Qxg6 fxg6 31.b3 Nxf2 32.Re6 Kc7 33.Rxg6 Rd7\n",
      "34.Nh4 Nc8 35.Bd5 Nd6 36.Re6 Nb5 37.cxb5 Rxd5 38.Rg6 Rd7\n",
      "39.Nf5 Ne4 40.Nxg7 Rd1+ 41.Kc2 Rd2+ 42.Kc1 Rxa2 43.Nxh5 Nd2\n",
      "44.Nf4 Nxb3+ 45.Kb1 Rd2 46.Re6 c4 47.Re3 Kb6 48.g6 Kxb5 49.g7\n",
      "Kb4 1/2-1/2\n",
      "\n",
      "[Event \"IBM Man-Machine, New York USA\"]\n",
      "[Site \"06\"]\n",
      "[Date \"1997.??.??\"]\n",
      "[EventDate \"?\"]\n",
      "[Round \"?\"]\n",
      "[Result \"1-0\"]\n",
      "[White \"Deep Blue (Computer)\"]\n",
      "[Black \"Garry Kasparov\"]\n",
      "[ECO \"B17\"]\n",
      "[WhiteElo \"?\"]\n",
      "[BlackElo \"?\"]\n",
      "[PlyCount \"37\"]\n",
      "\n",
      "1.e4 c6 2.d4 d5 3.Nc3 dxe4 4.Nxe4 Nd7 5.Ng5 Ngf6 6.Bd3 e6\n",
      "7.N1f3 h6 8.Nxe6 Qe7 9.O-O fxe6 10.Bg6+ Kd8 11.Bf4 b5 12.a4\n",
      "Bb7 13.Re1 Nd5 14.Bg3 Kc8 15.axb5 cxb5 16.Qd3 Bc6 17.Bf5 exf5\n",
      "18.Rxe7 Bxe7 19.c4 1-0\n",
      "\n"
     ]
    }
   ],
   "source": []
  },
  {
   "cell_type": "code",
   "execution_count": 5,
   "metadata": {},
   "outputs": [],
   "source": [
    "full_pgn = \"\"\"\n",
    "[Event \"World Championship 23th\"]\n",
    "[Site \"Moscow\"]\n",
    "[Date \"1960.03.17\"]\n",
    "[Round \"2\"]\n",
    "[White \"Botvinnik, Mikhail\"]\n",
    "[Black \"Tal, Mihail\"]\n",
    "[Result \"1/2-1/2\"]\n",
    "[BookDepth \"17\"]\n",
    "1.d4 Nf6 2.c4 c5 3.d5 e6 4.Nc3 exd5 5.cxd5 d6 6.Nf3 g6 7.Bg5 Bg7\n",
    "8.Nd2 h6 9.Bh4 g5 10.Bg3 Nh5 11.Nc4 Nxg3 12.hxg3 O-O 13.e3 Qe7\n",
    "14.Be2 Rd8 15.O-O Nd7 16.a4 Ne5 17.Nxe5 Qxe5 18.a5 Rb8 19.Ra2 Bd7\n",
    "20.Nb5 Bxb5 21.Bxb5 b6 22.a6 Rbc8 23.Qd3 Rc7 24.b3 Qc3 25.Qxc3 Bxc3\n",
    "26.Rc2 Bf6 27.g4 Re7 28.Rc4 Rc8 29.g3 Bg7 30.Rd1 Rf8 31.Rd3 Kh7 32.Kg2 Kg6\n",
    "33.Rd1 h5 34.gxh5+ Kxh5 35.g4+ Kg6 36.Rc2 Rh8 37.Bd3+ Kf6 38.Kg3 Ree8\n",
    "39.Bb5 Re4 40.Rc4 Rxc4 41.bxc4 Ke7 42.Ba4 Be5+ 43.Kf3 Rh4\n",
    "44.Rg1 f5 1/2-1/2\n",
    "\"\"\"\n",
    "\n",
    "\n",
    "\n",
    "\"\"\"\n",
    "1. c4 e6 2. Nf3 d5 3. d4 Nf6 4. Nc3 Be7 5. Bg5 O-O 6. e3 h6 7. Bh4 b6 8. cxd5 Nxd5 \n",
    "9. Bxe7 Qxe7 10. Nxd5 exd5 11. Rc1 Be6 12. Qa4 c5 13. Qa3 Rc8 14. Bb5 a6 15. dxc5 bxc5 \n",
    "16. O-O Ra7 17. Be2 Nd7 18. Nd4 Qf8 19. Nxe6 fxe6 20. e4 d4 21. f4 Qe7 22. e5 Rb8 23. Bc4 Kh8 \n",
    "24. Qh3 Nf8 25. b3 a5 26. f5 exf5 27. Rxf5 Nh7 28. Rcf1 Qd8 29. Qg3 Re7 30. h4 Rbb7 \n",
    "31. e6 Rbc7 32. Qe5 Qe8 33. a4 Qd8 34. R1f2 Qe8 35. R2f3 Qd8 36. Bd3 Qe8 37. Qe4 Nf6 \n",
    "38. Rxf6 gxf6 39. Rxf6 Kg8 40. Bc4 Kh8 41. Qf4 1-0\n",
    "\"\"\"\n",
    "\n",
    "full_pgn = \"\"\"\n",
    "[Event \"Fischer - Spassky World Championship Match\"]\n",
    "[Site \"Reykjavik ISL\"]\n",
    "[Date \"1972.07.11\"]\n",
    "[EventDate \"?\"]\n",
    "[Round \"1\"]\n",
    "[Result \"1-0\"]\n",
    "[White \"Boris Spassky\"]\n",
    "[Black \"Robert James Fischer\"]\n",
    "1. d4 Nf6 2. c4 e6 3. Nf3 d5 4. Nc3 Bb4 5. e3 O-O 6. Bd3 c5\n",
    "7. O-O Nc6 8. a3 Ba5 9. Ne2 dxc4 10. Bxc4 Bb6 11. dxc5 Qxd1\n",
    "12. Rxd1 Bxc5 13. b4 Be7 14. Bb2 Bd7 15. Rac1 Rfd8 16. Ned4\n",
    "Nxd4 17. Nxd4 Ba4 18. Bb3 Bxb3 19. Nxb3 Rxd1+ 20. Rxd1 Rc8\n",
    "21. Kf1 Kf8 22. Ke2 Ne4 23. Rc1 Rxc1 24. Bxc1 f6 25. Na5 Nd6\n",
    "26. Kd3 Bd8 27. Nc4 Bc7 28. Nxd6 Bxd6 29. b5 Bxh2 30. g3 h5\n",
    "31. Ke2 h4 32. Kf3 Ke7 33. Kg2 hxg3 34. fxg3 Bxg3 35. Kxg3 Kd6\n",
    "36. a4 Kd5 37. Ba3 Ke4 38. Bc5 a6 39. b6 f5 40. Kh4 f4\n",
    "41. exf4 Kxf4 42. Kh5 Kf5 43. Be3 Ke4 44. Bf2 Kf5 45. Bh4 e5\n",
    "46. Bg5 e4 47. Be3 Kf6 48. Kg4 Ke5 49. Kg5 Kd5 50. Kf5 a5\n",
    "51. Bf2 g5 52. Kxg5 Kc4 53. Kf5 Kb4 54. Kxe4 Kxa4 55. Kd5 Kb5\n",
    "56. Kd6 1-0\n",
    "\"\"\""
   ]
  },
  {
   "cell_type": "code",
   "execution_count": 8,
   "metadata": {},
   "outputs": [],
   "source": [
    "# If you want to read from the String above...\n",
    "pgn = io.StringIO(full_pgn)\n",
    "game = chess.pgn.read_game(pgn)"
   ]
  },
  {
   "cell_type": "markdown",
   "metadata": {},
   "source": [
    "### TO read from a URL\n"
   ]
  },
  {
   "cell_type": "code",
   "execution_count": 41,
   "metadata": {},
   "outputs": [],
   "source": [
    "response = requests.get(url)\n",
    "#print(response.text)\n",
    "pgn = io.StringIO(response.text)"
   ]
  },
  {
   "cell_type": "code",
   "execution_count": null,
   "metadata": {},
   "outputs": [],
   "source": []
  },
  {
   "cell_type": "code",
   "execution_count": 42,
   "metadata": {},
   "outputs": [],
   "source": [
    "games = []\n",
    "end = False\n",
    "while not end:\n",
    "    g = chess.pgn.read_game(pgn)\n",
    "    if g is not None:\n",
    "        games.append(g)\n",
    "    else:\n",
    "        end = True\n"
   ]
  },
  {
   "cell_type": "code",
   "execution_count": 43,
   "metadata": {},
   "outputs": [
    {
     "data": {
      "text/plain": [
       "[<Game at 0x182829b0148 ('Garry Kasparov' vs. 'Deep Blue (Computer)', '1997.??.??')>,\n",
       " <Game at 0x1828138b788 ('Deep Blue (Computer)' vs. 'Garry Kasparov', '1997.??.??')>,\n",
       " <Game at 0x18282c83bc8 ('Garry Kasparov' vs. 'Deep Blue (Computer)', '1997.??.??')>,\n",
       " <Game at 0x1828289ac88 ('Deep Blue (Computer)' vs. 'Garry Kasparov', '1997.??.??')>,\n",
       " <Game at 0x18282c25448 ('Garry Kasparov' vs. 'Deep Blue (Computer)', '1997.??.??')>,\n",
       " <Game at 0x1828282cec8 ('Deep Blue (Computer)' vs. 'Garry Kasparov', '1997.??.??')>]"
      ]
     },
     "execution_count": 43,
     "metadata": {},
     "output_type": "execute_result"
    }
   ],
   "source": [
    "games"
   ]
  },
  {
   "cell_type": "code",
   "execution_count": 84,
   "metadata": {},
   "outputs": [],
   "source": [
    "def get_uci(game):\n",
    "    uci_str = \"\"\n",
    "    row = \"\"\n",
    "    for ply, move in enumerate(game.mainline_moves()):\n",
    "        row += move.uci() + \" \"\n",
    "        if not (ply+1) %12:\n",
    "            uci_str += row\n",
    "            row = \"\"\n",
    "\n",
    "    return uci_str"
   ]
  },
  {
   "cell_type": "code",
   "execution_count": 71,
   "metadata": {},
   "outputs": [],
   "source": [
    "def get_game_header_string(game):\n",
    "    gstring=''\n",
    "    for str_key in ['White', 'Black', 'Site', 'Date', 'Event']:\n",
    "        if str_key in game.headers:\n",
    "                if str_key == 'Site':\n",
    "                    gstring+='Game_'\n",
    "                if '?' not in game.headers[str_key]:\n",
    "                    gstring+= game.headers[str_key]+\"_\"\n",
    "\n",
    "    return gstring"
   ]
  },
  {
   "cell_type": "markdown",
   "metadata": {},
   "source": [
    "# Make a Game Dictionary"
   ]
  },
  {
   "cell_type": "code",
   "execution_count": 118,
   "metadata": {},
   "outputs": [],
   "source": [
    "all_games = {}\n",
    "for gindex, game in enumerate(games):\n",
    "    game_dict = {}\n",
    "    game_dict['Header']= get_game_header_string(game)\n",
    "    game_dict['pgn'] = game.mainline().__str__()\n",
    "    game_dict['uci'] = get_uci(game)\n",
    "    all_games['Game'+str(gindex+1)] = game_dict\n",
    "    "
   ]
  },
  {
   "cell_type": "code",
   "execution_count": 119,
   "metadata": {},
   "outputs": [
    {
     "data": {
      "text/plain": [
       "{'Game1': {'Header': 'Garry Kasparov_Deep Blue (Computer)_Game_01_IBM Man-Machine, New York USA_',\n",
       "  'pgn': '1. Nf3 d5 2. g3 Bg4 3. b3 Nd7 4. Bb2 e6 5. Bg2 Ngf6 6. O-O c6 7. d3 Bd6 8. Nbd2 O-O 9. h3 Bh5 10. e3 h6 11. Qe1 Qa5 12. a3 Bc7 13. Nh4 g5 14. Nhf3 e5 15. e4 Rfe8 16. Nh2 Qb6 17. Qc1 a5 18. Re1 Bd6 19. Ndf1 dxe4 20. dxe4 Bc5 21. Ne3 Rad8 22. Nhf1 g4 23. hxg4 Nxg4 24. f3 Nxe3 25. Nxe3 Be7 26. Kh1 Bg5 27. Re2 a4 28. b4 f5 29. exf5 e4 30. f4 Bxe2 31. fxg5 Ne5 32. g6 Bf3 33. Bc3 Qb5 34. Qf1 Qxf1+ 35. Rxf1 h5 36. Kg1 Kf8 37. Bh3 b5 38. Kf2 Kg7 39. g4 Kh6 40. Rg1 hxg4 41. Bxg4 Bxg4 42. Nxg4+ Nxg4+ 43. Rxg4 Rd5 44. f6 Rd1 45. g7',\n",
       "  'uci': 'g1f3 d7d5 g2g3 c8g4 b2b3 b8d7 c1b2 e7e6 f1g2 g8f6 e1g1 c7c6 d2d3 f8d6 b1d2 e8g8 h2h3 g4h5 e2e3 h7h6 d1e1 d8a5 a2a3 d6c7 f3h4 g7g5 h4f3 e6e5 e3e4 f8e8 f3h2 a5b6 e1c1 a7a5 f1e1 c7d6 d2f1 d5e4 d3e4 d6c5 f1e3 a8d8 h2f1 g5g4 h3g4 f6g4 f2f3 g4e3 f1e3 c5e7 g1h1 e7g5 e1e2 a5a4 b3b4 f7f5 e4f5 e5e4 f3f4 h5e2 f4g5 d7e5 g5g6 e2f3 b2c3 b6b5 c1f1 b5f1 a1f1 h6h5 h1g1 g8f8 g2h3 b7b5 g1f2 f8g7 g3g4 g7h6 f1g1 h5g4 h3g4 f3g4 e3g4 e5g4 '},\n",
       " 'Game2': {'Header': 'Deep Blue (Computer)_Garry Kasparov_Game_02_IBM Man-Machine, New York USA_',\n",
       "  'pgn': '1. e4 e5 2. Nf3 Nc6 3. Bb5 a6 4. Ba4 Nf6 5. O-O Be7 6. Re1 b5 7. Bb3 d6 8. c3 O-O 9. h3 h6 10. d4 Re8 11. Nbd2 Bf8 12. Nf1 Bd7 13. Ng3 Na5 14. Bc2 c5 15. b3 Nc6 16. d5 Ne7 17. Be3 Ng6 18. Qd2 Nh7 19. a4 Nh4 20. Nxh4 Qxh4 21. Qe2 Qd8 22. b4 Qc7 23. Rec1 c4 24. Ra3 Rec8 25. Rca1 Qd8 26. f4 Nf6 27. fxe5 dxe5 28. Qf1 Ne8 29. Qf2 Nd6 30. Bb6 Qe8 31. R3a2 Be7 32. Bc5 Bf8 33. Nf5 Bxf5 34. exf5 f6 35. Bxd6 Bxd6 36. axb5 axb5 37. Be4 Rxa2 38. Qxa2 Qd7 39. Qa7 Rc7 40. Qb6 Rb7 41. Ra8+ Kf7 42. Qa6 Qc7 43. Qc6 Qb6+ 44. Kf1 Rb8 45. Ra6',\n",
       "  'uci': 'e2e4 e7e5 g1f3 b8c6 f1b5 a7a6 b5a4 g8f6 e1g1 f8e7 f1e1 b7b5 a4b3 d7d6 c2c3 e8g8 h2h3 h7h6 d2d4 f8e8 b1d2 e7f8 d2f1 c8d7 f1g3 c6a5 b3c2 c7c5 b2b3 a5c6 d4d5 c6e7 c1e3 e7g6 d1d2 f6h7 a2a4 g6h4 f3h4 d8h4 d2e2 h4d8 b3b4 d8c7 e1c1 c5c4 a1a3 e8c8 c1a1 c7d8 f2f4 h7f6 f4e5 d6e5 e2f1 f6e8 f1f2 e8d6 e3b6 d8e8 a3a2 f8e7 b6c5 e7f8 g3f5 d7f5 e4f5 f7f6 c5d6 f8d6 a4b5 a6b5 c2e4 a8a2 f2a2 e8d7 a2a7 c8c7 a7b6 c7b7 a1a8 g8f7 b6a6 d7c7 '},\n",
       " 'Game3': {'Header': 'Garry Kasparov_Deep Blue (Computer)_Game_03_IBM Man-Machine, New York USA_',\n",
       "  'pgn': '1. d3 e5 2. Nf3 Nc6 3. c4 Nf6 4. a3 d6 5. Nc3 Be7 6. g3 O-O 7. Bg2 Be6 8. O-O Qd7 9. Ng5 Bf5 10. e4 Bg4 11. f3 Bh5 12. Nh3 Nd4 13. Nf2 h6 14. Be3 c5 15. b4 b6 16. Rb1 Kh8 17. Rb2 a6 18. bxc5 bxc5 19. Bh3 Qc7 20. Bg4 Bg6 21. f4 exf4 22. gxf4 Qa5 23. Bd2 Qxa3 24. Ra2 Qb3 25. f5 Qxd1 26. Bxd1 Bh7 27. Nh3 Rfb8 28. Nf4 Bd8 29. Nfd5 Nc6 30. Bf4 Ne5 31. Ba4 Nxd5 32. Nxd5 a5 33. Bb5 Ra7 34. Kg2 g5 35. Bxe5+ dxe5 36. f6 Bg6 37. h4 gxh4 38. Kh3 Kg8 39. Kxh4 Kh7 40. Kg4 Bc7 41. Nxc7 Rxc7 42. Rxa5 Rd8 43. Rf3 Kh8 44. Kh4 Kg8 45. Ra3 Kh8 46. Ra6 Kh7 47. Ra3 Kh8 48. Ra6',\n",
       "  'uci': 'd2d3 e7e5 g1f3 b8c6 c2c4 g8f6 a2a3 d7d6 b1c3 f8e7 g2g3 e8g8 f1g2 c8e6 e1g1 d8d7 f3g5 e6f5 e2e4 f5g4 f2f3 g4h5 g5h3 c6d4 h3f2 h7h6 c1e3 c7c5 b2b4 b7b6 a1b1 g8h8 b1b2 a7a6 b4c5 b6c5 g2h3 d7c7 h3g4 h5g6 f3f4 e5f4 g3f4 c7a5 e3d2 a5a3 b2a2 a3b3 f4f5 b3d1 g4d1 g6h7 f2h3 f8b8 h3f4 e7d8 f4d5 d4c6 d2f4 c6e5 d1a4 f6d5 c3d5 a6a5 a4b5 a8a7 g1g2 g7g5 f4e5 d6e5 f5f6 h7g6 h2h4 g5h4 g2h3 h8g8 h3h4 g8h7 h4g4 d8c7 d5c7 a7c7 a2a5 b8d8 '},\n",
       " 'Game4': {'Header': 'Deep Blue (Computer)_Garry Kasparov_Game_04_IBM Man-Machine, New York USA_',\n",
       "  'pgn': '1. e4 c6 2. d4 d6 3. Nf3 Nf6 4. Nc3 Bg4 5. h3 Bh5 6. Bd3 e6 7. Qe2 d5 8. Bg5 Be7 9. e5 Nfd7 10. Bxe7 Qxe7 11. g4 Bg6 12. Bxg6 hxg6 13. h4 Na6 14. O-O-O O-O-O 15. Rdg1 Nc7 16. Kb1 f6 17. exf6 Qxf6 18. Rg3 Rde8 19. Re1 Rhf8 20. Nd1 e5 21. dxe5 Qf4 22. a3 Ne6 23. Nc3 Ndc5 24. b4 Nd7 25. Qd3 Qf7 26. b5 Ndc5 27. Qe3 Qf4 28. bxc6 bxc6 29. Rd1 Kc7 30. Ka1 Qxe3 31. fxe3 Rf7 32. Rh3 Ref8 33. Nd4 Rf2 34. Rb1 Rg2 35. Nce2 Rxg4 36. Nxe6+ Nxe6 37. Nd4 Nxd4 38. exd4 Rxd4 39. Rg1 Rc4 40. Rxg6 Rxc2 41. Rxg7+ Kb6 42. Rb3+ Kc5 43. Rxa7 Rf1+ 44. Rb1 Rff2 45. Rb4 Rc1+ 46. Rb1 Rcc2 47. Rb4 Rc1+ 48. Rb1 Rxb1+ 49. Kxb1 Re2 50. Re7 Rh2 51. Rh7 Kc4 52. Rc7 c5 53. e6 Rxh4 54. e7 Re4 55. a4 Kb3 56. Kc1',\n",
       "  'uci': 'e2e4 c7c6 d2d4 d7d6 g1f3 g8f6 b1c3 c8g4 h2h3 g4h5 f1d3 e7e6 d1e2 d6d5 c1g5 f8e7 e4e5 f6d7 g5e7 d8e7 g2g4 h5g6 d3g6 h7g6 h3h4 b8a6 e1c1 e8c8 d1g1 a6c7 c1b1 f7f6 e5f6 e7f6 g1g3 d8e8 h1e1 h8f8 c3d1 e6e5 d4e5 f6f4 a2a3 c7e6 d1c3 d7c5 b2b4 c5d7 e2d3 f4f7 b4b5 d7c5 d3e3 f7f4 b5c6 b7c6 e1d1 c8c7 b1a1 f4e3 f2e3 f8f7 g3h3 e8f8 f3d4 f7f2 d1b1 f2g2 c3e2 g2g4 d4e6 c5e6 e2d4 e6d4 e3d4 g4d4 b1g1 d4c4 g1g6 c4c2 g6g7 c7b6 h3b3 b6c5 g7a7 f8f1 b3b1 f1f2 b1b4 c2c1 b4b1 c1c2 b1b4 c2c1 b4b1 c1b1 a1b1 f2e2 a7e7 e2h2 e7h7 c5c4 h7c7 c6c5 e5e6 h2h4 e6e7 h4e4 '},\n",
       " 'Game5': {'Header': 'Garry Kasparov_Deep Blue (Computer)_Game_05_IBM Man-Machine, New York USA_',\n",
       "  'pgn': '1. Nf3 d5 2. g3 Bg4 3. Bg2 Nd7 4. h3 Bxf3 5. Bxf3 c6 6. d3 e6 7. e4 Ne5 8. Bg2 dxe4 9. Bxe4 Nf6 10. Bg2 Bb4+ 11. Nd2 h5 12. Qe2 Qc7 13. c3 Be7 14. d4 Ng6 15. h4 e5 16. Nf3 exd4 17. Nxd4 O-O-O 18. Bg5 Ng4 19. O-O-O Rhe8 20. Qc2 Kb8 21. Kb1 Bxg5 22. hxg5 N6e5 23. Rhe1 c5 24. Nf3 Rxd1+ 25. Rxd1 Nc4 26. Qa4 Rd8 27. Re1 Nb6 28. Qc2 Qd6 29. c4 Qg6 30. Qxg6 fxg6 31. b3 Nxf2 32. Re6 Kc7 33. Rxg6 Rd7 34. Nh4 Nc8 35. Bd5 Nd6 36. Re6 Nb5 37. cxb5 Rxd5 38. Rg6 Rd7 39. Nf5 Ne4 40. Nxg7 Rd1+ 41. Kc2 Rd2+ 42. Kc1 Rxa2 43. Nxh5 Nd2 44. Nf4 Nxb3+ 45. Kb1 Rd2 46. Re6 c4 47. Re3 Kb6 48. g6 Kxb5 49. g7 Kb4',\n",
       "  'uci': 'g1f3 d7d5 g2g3 c8g4 f1g2 b8d7 h2h3 g4f3 g2f3 c7c6 d2d3 e7e6 e2e4 d7e5 f3g2 d5e4 g2e4 g8f6 e4g2 f8b4 b1d2 h7h5 d1e2 d8c7 c2c3 b4e7 d3d4 e5g6 h3h4 e6e5 d2f3 e5d4 f3d4 e8c8 c1g5 f6g4 e1c1 h8e8 e2c2 c8b8 c1b1 e7g5 h4g5 g6e5 h1e1 c6c5 d4f3 d8d1 e1d1 e5c4 c2a4 e8d8 d1e1 c4b6 a4c2 c7d6 c3c4 d6g6 c2g6 f7g6 b2b3 g4f2 e1e6 b8c7 e6g6 d8d7 f3h4 b6c8 g2d5 c8d6 g6e6 d6b5 c4b5 d7d5 e6g6 d5d7 h4f5 f2e4 f5g7 d7d1 b1c2 d1d2 c2c1 d2a2 g7h5 e4d2 h5f4 d2b3 c1b1 a2d2 g6e6 c5c4 e6e3 c7b6 g5g6 b6b5 '},\n",
       " 'Game6': {'Header': 'Deep Blue (Computer)_Garry Kasparov_Game_06_IBM Man-Machine, New York USA_',\n",
       "  'pgn': '1. e4 c6 2. d4 d5 3. Nc3 dxe4 4. Nxe4 Nd7 5. Ng5 Ngf6 6. Bd3 e6 7. N1f3 h6 8. Nxe6 Qe7 9. O-O fxe6 10. Bg6+ Kd8 11. Bf4 b5 12. a4 Bb7 13. Re1 Nd5 14. Bg3 Kc8 15. axb5 cxb5 16. Qd3 Bc6 17. Bf5 exf5 18. Rxe7 Bxe7 19. c4',\n",
       "  'uci': 'e2e4 c7c6 d2d4 d7d5 b1c3 d5e4 c3e4 b8d7 e4g5 g8f6 f1d3 e7e6 g1f3 h7h6 g5e6 d8e7 e1g1 f7e6 d3g6 e8d8 c1f4 b7b5 a2a4 c8b7 f1e1 f6d5 f4g3 d8c8 a4b5 c6b5 d1d3 b7c6 g6f5 e6f5 e1e7 f8e7 '}}"
      ]
     },
     "execution_count": 119,
     "metadata": {},
     "output_type": "execute_result"
    }
   ],
   "source": [
    "all_games"
   ]
  },
  {
   "cell_type": "code",
   "execution_count": 72,
   "metadata": {},
   "outputs": [
    {
     "data": {
      "text/plain": [
       "'Garry Kasparov_Deep Blue (Computer)_Game_01_IBM Man-Machine, New York USA_'"
      ]
     },
     "execution_count": 72,
     "metadata": {},
     "output_type": "execute_result"
    }
   ],
   "source": []
  },
  {
   "cell_type": "code",
   "execution_count": 48,
   "metadata": {},
   "outputs": [
    {
     "data": {
      "text/plain": [
       "<Mainline at 0x182826bc508 (1. Nf3 d5 2. g3 Bg4 3. b3 Nd7 4. Bb2 e6 5. Bg2 Ngf6 6. O-O c6 7. d3 Bd6 8. Nbd2 O-O 9. h3 Bh5 10. e3 h6 11. Qe1 Qa5 12. a3 Bc7 13. Nh4 g5 14. Nhf3 e5 15. e4 Rfe8 16. Nh2 Qb6 17. Qc1 a5 18. Re1 Bd6 19. Ndf1 dxe4 20. dxe4 Bc5 21. Ne3 Rad8 22. Nhf1 g4 23. hxg4 Nxg4 24. f3 Nxe3 25. Nxe3 Be7 26. Kh1 Bg5 27. Re2 a4 28. b4 f5 29. exf5 e4 30. f4 Bxe2 31. fxg5 Ne5 32. g6 Bf3 33. Bc3 Qb5 34. Qf1 Qxf1+ 35. Rxf1 h5 36. Kg1 Kf8 37. Bh3 b5 38. Kf2 Kg7 39. g4 Kh6 40. Rg1 hxg4 41. Bxg4 Bxg4 42. Nxg4+ Nxg4+ 43. Rxg4 Rd5 44. f6 Rd1 45. g7)>"
      ]
     },
     "execution_count": 48,
     "metadata": {},
     "output_type": "execute_result"
    }
   ],
   "source": [
    "game.mainline_moves()"
   ]
  },
  {
   "cell_type": "code",
   "execution_count": 50,
   "metadata": {},
   "outputs": [
    {
     "data": {
      "text/plain": [
       "'g1f3 d7d5 g2g3 c8g4 b2b3 b8d7 c1b2 e7e6 f1g2 g8f6 e1g1 c7c6 d2d3 f8d6 b1d2 e8g8 h2h3 g4h5 e2e3 h7h6 d1e1 d8a5 a2a3 d6c7 f3h4 g7g5 h4f3 e6e5 e3e4 f8e8 f3h2 a5b6 e1c1 a7a5 f1e1 c7d6 d2f1 d5e4 d3e4 d6c5 f1e3 a8d8 h2f1 g5g4 h3g4 f6g4 f2f3 g4e3 f1e3 c5e7 g1h1 e7g5 e1e2 a5a4 b3b4 f7f5 e4f5 e5e4 f3f4 h5e2 f4g5 d7e5 g5g6 e2f3 b2c3 b6b5 c1f1 b5f1 a1f1 h6h5 h1g1 g8f8 g2h3 b7b5 g1f2 f8g7 g3g4 g7h6 f1g1 h5g4 h3g4 f3g4 e3g4 e5g4 '"
      ]
     },
     "execution_count": 50,
     "metadata": {},
     "output_type": "execute_result"
    }
   ],
   "source": [
    "all_moves"
   ]
  },
  {
   "cell_type": "code",
   "execution_count": 93,
   "metadata": {},
   "outputs": [
    {
     "data": {
      "text/plain": [
       "<Mainline at 0x18283e63288 (1. e4 c6 2. d4 d5 3. Nc3 dxe4 4. Nxe4 Nd7 5. Ng5 Ngf6 6. Bd3 e6 7. N1f3 h6 8. Nxe6 Qe7 9. O-O fxe6 10. Bg6+ Kd8 11. Bf4 b5 12. a4 Bb7 13. Re1 Nd5 14. Bg3 Kc8 15. axb5 cxb5 16. Qd3 Bc6 17. Bf5 exf5 18. Rxe7 Bxe7 19. c4)>"
      ]
     },
     "execution_count": 93,
     "metadata": {},
     "output_type": "execute_result"
    }
   ],
   "source": [
    "game.mainline_moves()"
   ]
  },
  {
   "cell_type": "code",
   "execution_count": 107,
   "metadata": {},
   "outputs": [
    {
     "name": "stdout",
     "output_type": "stream",
     "text": [
      "[Event \"IBM Man-Machine, New York USA\"]\n",
      "[Site \"06\"]\n",
      "[Date \"1997.??.??\"]\n",
      "[Round \"?\"]\n",
      "[White \"Deep Blue (Computer)\"]\n",
      "[Black \"Garry Kasparov\"]\n",
      "[Result \"1-0\"]\n",
      "[BlackElo \"?\"]\n",
      "[ECO \"B17\"]\n",
      "[EventDate \"?\"]\n",
      "[PlyCount \"37\"]\n",
      "[WhiteElo \"?\"]\n",
      "\n",
      "1. e4 c6 2. d4 d5 3. Nc3 dxe4 4. Nxe4 Nd7 5. Ng5 Ngf6 6. Bd3 e6 7. N1f3 h6 8. Nxe6 Qe7 9. O-O fxe6 10. Bg6+ Kd8 11. Bf4 b5 12. a4 Bb7 13. Re1 Nd5 14. Bg3 Kc8 15. axb5 cxb5 16. Qd3 Bc6 17. Bf5 exf5 18. Rxe7 Bxe7 19. c4 1-0 Headers(Event='IBM Man-Machine, New York USA', Site='06', Date='1997.??.??', Round='?', White='Deep Blue (Computer)', Black='Garry Kasparov', Result='1-0', BlackElo='?', ECO='B17', EventDate='?', PlyCount='37', WhiteElo='?')\n"
     ]
    }
   ],
   "source": [
    "print(game.game(), game.headers)"
   ]
  },
  {
   "cell_type": "code",
   "execution_count": 108,
   "metadata": {},
   "outputs": [
    {
     "data": {
      "text/plain": [
       "['__class__',\n",
       " '__delattr__',\n",
       " '__dict__',\n",
       " '__dir__',\n",
       " '__doc__',\n",
       " '__eq__',\n",
       " '__format__',\n",
       " '__ge__',\n",
       " '__getattribute__',\n",
       " '__getitem__',\n",
       " '__gt__',\n",
       " '__hash__',\n",
       " '__init__',\n",
       " '__init_subclass__',\n",
       " '__le__',\n",
       " '__lt__',\n",
       " '__module__',\n",
       " '__ne__',\n",
       " '__new__',\n",
       " '__reduce__',\n",
       " '__reduce_ex__',\n",
       " '__repr__',\n",
       " '__setattr__',\n",
       " '__sizeof__',\n",
       " '__str__',\n",
       " '__subclasshook__',\n",
       " '__weakref__',\n",
       " '_accept',\n",
       " '_accept_node',\n",
       " '_board',\n",
       " '_move',\n",
       " 'accept',\n",
       " 'accept_subgame',\n",
       " 'add_line',\n",
       " 'add_main_variation',\n",
       " 'add_variation',\n",
       " 'arrows',\n",
       " 'board',\n",
       " 'board_cached',\n",
       " 'builder',\n",
       " 'clock',\n",
       " 'comment',\n",
       " 'dangling_node',\n",
       " 'demote',\n",
       " 'end',\n",
       " 'errors',\n",
       " 'eval',\n",
       " 'from_board',\n",
       " 'game',\n",
       " 'has_variation',\n",
       " 'headers',\n",
       " 'is_end',\n",
       " 'is_main_variation',\n",
       " 'is_mainline',\n",
       " 'mainline',\n",
       " 'mainline_moves',\n",
       " 'move',\n",
       " 'nags',\n",
       " 'parent',\n",
       " 'promote',\n",
       " 'promote_to_main',\n",
       " 'remove_variation',\n",
       " 'root',\n",
       " 'san',\n",
       " 'set_arrows',\n",
       " 'set_clock',\n",
       " 'set_eval',\n",
       " 'setup',\n",
       " 'starting_comment',\n",
       " 'starts_variation',\n",
       " 'uci',\n",
       " 'variation',\n",
       " 'variations',\n",
       " 'without_tag_roster']"
      ]
     },
     "execution_count": 108,
     "metadata": {},
     "output_type": "execute_result"
    }
   ],
   "source": [
    "dir(game)"
   ]
  },
  {
   "cell_type": "code",
   "execution_count": 117,
   "metadata": {},
   "outputs": [
    {
     "data": {
      "text/plain": [
       "'1. e4 c6 2. d4 d5 3. Nc3 dxe4 4. Nxe4 Nd7 5. Ng5 Ngf6 6. Bd3 e6 7. N1f3 h6 8. Nxe6 Qe7 9. O-O fxe6 10. Bg6+ Kd8 11. Bf4 b5 12. a4 Bb7 13. Re1 Nd5 14. Bg3 Kc8 15. axb5 cxb5 16. Qd3 Bc6 17. Bf5 exf5 18. Rxe7 Bxe7 19. c4'"
      ]
     },
     "execution_count": 117,
     "metadata": {},
     "output_type": "execute_result"
    }
   ],
   "source": []
  },
  {
   "cell_type": "code",
   "execution_count": null,
   "metadata": {},
   "outputs": [],
   "source": []
  }
 ],
 "metadata": {
  "kernelspec": {
   "display_name": "Python 3",
   "language": "python",
   "name": "python3"
  },
  "language_info": {
   "codemirror_mode": {
    "name": "ipython",
    "version": 3
   },
   "file_extension": ".py",
   "mimetype": "text/x-python",
   "name": "python",
   "nbconvert_exporter": "python",
   "pygments_lexer": "ipython3",
   "version": "3.7.4"
  }
 },
 "nbformat": 4,
 "nbformat_minor": 2
}
