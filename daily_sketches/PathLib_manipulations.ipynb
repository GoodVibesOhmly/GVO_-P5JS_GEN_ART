{
 "cells": [
  {
   "cell_type": "code",
   "execution_count": 2,
   "metadata": {
    "scrolled": false
   },
   "outputs": [],
   "source": [
    "import pathlib\n",
    "from pathlib import Path\n",
    "import shutil"
   ]
  },
  {
   "cell_type": "code",
   "execution_count": null,
   "metadata": {
    "scrolled": true
   },
   "outputs": [],
   "source": [
    "INPUT_DIR = '2021-03-09'\n"
   ]
  },
  {
   "cell_type": "code",
   "execution_count": null,
   "metadata": {
    "scrolled": true
   },
   "outputs": [],
   "source": [
    "p = Path(\"2021/\" + INPUT_DIR + \"/todays_notes.txt\")\n",
    "with open(p, \"r\") as notes_file:\n",
    "        for line in notes_file:\n",
    "            if line[:9] == \"Keywords:\":\n",
    "                kwds = line\n",
    "                return(1, kwds)\n"
   ]
  },
  {
   "cell_type": "code",
   "execution_count": null,
   "metadata": {
    "scrolled": true
   },
   "outputs": [],
   "source": [
    "fname.stat().st_ctime\n"
   ]
  },
  {
   "cell_type": "code",
   "execution_count": null,
   "metadata": {
    "scrolled": true
   },
   "outputs": [],
   "source": [
    "INPUT_DIR = '2021-03-04'\n",
    "p = Path(\"2021/\" + INPUT_DIR + \"/images\").rglob(\"keep*.*\")\n",
    "files = [x for x in p if x.is_file()]\n",
    "print(files)\n",
    "\n"
   ]
  },
  {
   "cell_type": "markdown",
   "metadata": {},
   "source": [
    "# Month end collation\n",
    "\n",
    "Steps\n",
    "1. Get all the relevant daily directories as strings\n",
    "2. Go to each day's dir, to its `images` directory.\n",
    "3. Get the LATEST file from that `images` directory\n",
    "4. `cp` that last image to a new destination"
   ]
  },
  {
   "cell_type": "code",
   "execution_count": 18,
   "metadata": {
    "scrolled": true
   },
   "outputs": [],
   "source": [
    "def copy_daily_sketches_to_month_summary(input_images_dir, \n",
    "                                         output_images_dir, \n",
    "                                        days_of_month=31,                                        \n",
    "                                         make_copies=False\n",
    "                                         ):\n",
    "    \"\"\"\n",
    "    @params: input_images_dir is the path to where that day's images can be found.\n",
    "    \"\"\"\n",
    "    #make the directory if one doesn't exist\n",
    "    pathlib.Path(output_images_dir).mkdir(parents=True, exist_ok=True)\n",
    "    \n",
    "    for _date in range(1,days_of_month+1):\n",
    "        p = Path(f\"{input_images_dir}-{_date:02}/images\").rglob(\"keep*.*\")\n",
    "        #p = Path(f\"{input_images_dir}\").rglob(\"keep*.*\")\n",
    "        #print(p.name)\n",
    "        #print(list(p))\n",
    "        files = [x for x in p if x.is_file()]\n",
    "        _times = [fname.stat().st_ctime for fname in files]\n",
    "        #\n",
    "    #     for f in files:\n",
    "    #         print(f, f.stat().st_ctime)\n",
    "\n",
    "        latest_file_index = _times.index(max(_times))\n",
    "        orig_file = files[latest_file_index]\n",
    "        print(orig_file)\n",
    "        dest_file = Path(f\"{output_images_dir}/{_date:02}_{orig_file.name}\")\n",
    "        if make_copies:                          \n",
    "            shutil.copy(orig_file, dest_file)  # copy the file...\n",
    "        else:    \n",
    "            print(f'Will be copied to {dest_file}')\n",
    "        "
   ]
  },
  {
   "cell_type": "code",
   "execution_count": 19,
   "metadata": {},
   "outputs": [
    {
     "data": {
      "text/plain": [
       "'C:\\\\Users\\\\ramna\\\\PyLibrary\\\\generative_art\\\\daily_sketches'"
      ]
     },
     "execution_count": 19,
     "metadata": {},
     "output_type": "execute_result"
    }
   ],
   "source": [
    "import os\n",
    "os.getcwd()"
   ]
  },
  {
   "cell_type": "code",
   "execution_count": 20,
   "metadata": {
    "scrolled": true
   },
   "outputs": [
    {
     "name": "stdout",
     "output_type": "stream",
     "text": [
      "2021\\2021-04-01\\images\\keep_2021-04-02-10-10-51.png\n",
      "2021\\2021-04-02\\images\\keep_2021-04-03-16-42-56.png\n",
      "2021\\2021-04-03\\images\\keep_2021-04-04-09-28-22.png\n",
      "2021\\2021-04-04\\images\\keep_2021-04-05-21-00-06.png\n",
      "2021\\2021-04-05\\images\\keep_2021-04-06-23-40-11.png\n",
      "2021\\2021-04-06\\images\\keep_2021-04-07-18-54-10.png\n",
      "2021\\2021-04-07\\images\\keep_2021-04-07-23-03-48.png\n",
      "2021\\2021-04-08\\images\\keep_2021-04-08-17-02-58.png\n",
      "2021\\2021-04-09\\images\\keep_2021-04-10-10-34-36.png\n",
      "2021\\2021-04-10\\images\\keep_2021-04-10-22-28-42.png\n",
      "2021\\2021-04-11\\images\\keep_2021-04-11-20-43-40.png\n",
      "2021\\2021-04-12\\images\\keep_2021-04-12-22-43-06.png\n",
      "2021\\2021-04-13\\images\\keep_2021-04-13-08-38-24.png\n",
      "2021\\2021-04-14\\images\\keep_2021-04-14-20-08-46.png\n",
      "2021\\2021-04-15\\images\\keep_2021-04-15-16-16-42.png\n",
      "2021\\2021-04-16\\images\\keep_2021-04-16-23-51-43.png\n",
      "2021\\2021-04-17\\images\\keep_2021-04-17-18-36-30.png\n",
      "2021\\2021-04-18\\images\\keep_2021-04-19-15-10-42.png\n",
      "2021\\2021-04-19\\images\\keep_2021-04-19-18-41-13.png\n",
      "2021\\2021-04-20\\images\\keep_2021-04-21-10-03-59.png\n",
      "2021\\2021-04-21\\images\\keep_2021-04-21-22-53-43.png\n",
      "2021\\2021-04-22\\images\\keep_2021-04-22-16-24-16.png\n",
      "2021\\2021-04-23\\images\\keep_2021-04-23-23-12-59.png\n",
      "2021\\2021-04-24\\images\\keep_2021-04-24-20-43-38.png\n",
      "2021\\2021-04-25\\images\\keep_2021-04-26-13-41-02.png\n",
      "2021\\2021-04-26\\images\\keep_2021-04-27-16-48-25.png\n",
      "2021\\2021-04-27\\images\\keep_2021-04-27-17-27-40.png\n",
      "2021\\2021-04-28\\images\\keep_2021-04-28-23-39-37.png\n",
      "2021\\2021-04-29\\images\\keep_2021-04-29-23-34-00.png\n",
      "2021\\2021-04-30\\images\\keep_2021-05-01-19-00-32.png\n"
     ]
    }
   ],
   "source": [
    "month = \"04\"\n",
    "summary_dir = f'2021/summary/2021-{month}_images' #target for the image files\n",
    "days_of_month = 30\n",
    "input_images_dir = f\"2021/2021-{month}\"\n",
    "copy_daily_sketches_to_month_summary(input_images_dir, summary_dir, days_of_month, True)"
   ]
  },
  {
   "cell_type": "markdown",
   "metadata": {},
   "source": [
    "---\n",
    "----\n",
    "## Special case for Genuary\n",
    "\n",
    "the directory naming was not great..."
   ]
  },
  {
   "cell_type": "code",
   "execution_count": 30,
   "metadata": {
    "scrolled": true
   },
   "outputs": [
    {
     "name": "stdout",
     "output_type": "stream",
     "text": [
      "Will be copied to 2021\\summary\\2021-01_images\\Jan01_Triple_Nested_Loops_triple_nested7.png\n",
      "Will be copied to 2021\\summary\\2021-01_images\\Jan02_Rule30_rule30_1.mp4\n",
      "Will be copied to 2021\\summary\\2021-01_images\\Jan03_Something_Human_g25.mp4\n",
      "Will be copied to 2021\\summary\\2021-01_images\\Jan04_Symmetry_noise_symm_4209.png\n",
      "Will be copied to 2021\\summary\\2021-01_images\\Jan05_Code_Golf_code_golf_7671.png\n",
      "Will be copied to 2021\\summary\\2021-01_images\\Jan06_Triangle_Subdivision_ico_anim.mp4\n",
      "Will be copied to 2021\\summary\\2021-01_images\\Jan07_Rules_and_Hand-drawn_attempt4.JPEG\n",
      "Will be copied to 2021\\summary\\2021-01_images\\Jan08_Curve_Only_curves_3752.png\n",
      "Will be copied to 2021\\summary\\2021-01_images\\Jan09_Interference_Patterns_interference_4645.png\n",
      "Will be copied to 2021\\summary\\2021-01_images\\Jan10_Tree_tree_evolution.mp4\n",
      "Will be copied to 2021\\summary\\2021-01_images\\Jan11_Other_Autonomous_spiral_20210112_121657.png\n",
      "Will be copied to 2021\\summary\\2021-01_images\\Jan12_Use_API_hours_daylight.png\n",
      "Will be copied to 2021\\summary\\2021-01_images\\Jan13_Do_Not_Repeat_keep0.png\n",
      "Will be copied to 2021\\summary\\2021-01_images\\Jan14_Subdivision_keep0.png\n",
      "Will be copied to 2021\\summary\\2021-01_images\\Jan15_Rules_By_Someone_Else_keep0.png\n",
      "Will be copied to 2021\\summary\\2021-01_images\\Jan16_Circles_Only_keep0.png\n",
      "Will be copied to 2021\\summary\\2021-01_images\\Jan17_Line_Color_Move_keep0.png\n",
      "Will be copied to 2021\\summary\\2021-01_images\\Jan18_Process_Growth_Pruning_keep0.png\n",
      "Will be copied to 2021\\summary\\2021-01_images\\Jan19_Yaxis_Randomness_keep0.png\n",
      "Will be copied to 2021\\summary\\2021-01_images\\Jan20_No_Loops_keep0.png\n",
      "Will be copied to 2021\\summary\\2021-01_images\\Jan21_Recursion_keep0.png\n",
      "Will be copied to 2021\\summary\\2021-01_images\\Jan22_Draw_A_Line_keep0.png\n",
      "Will be copied to 2021\\summary\\2021-01_images\\Jan23_Palette_No_Gradients_keep0.png\n",
      "Will be copied to 2021\\summary\\2021-01_images\\Jan24_500_Lines_keep0.png\n",
      "Will be copied to 2021\\summary\\2021-01_images\\Jan25_Grid_Permutations_keep0.png\n",
      "Will be copied to 2021\\summary\\2021-01_images\\Jan26_2D_Perspective_keep0.png\n",
      "Will be copied to 2021\\summary\\2021-01_images\\Jan27_Monochrome_keep0.png\n",
      "Will be copied to 2021\\summary\\2021-01_images\\Jan28_Use_Sound_keep0.png\n",
      "Will be copied to 2021\\summary\\2021-01_images\\Jan29_Shapes_No_Touching_keep0.png\n",
      "Will be copied to 2021\\summary\\2021-01_images\\Jan30_Natural_Concept_keep0.png\n",
      "Will be copied to 2021\\summary\\2021-01_images\\Jan31_Oblique_Strategies_keep0.png\n"
     ]
    }
   ],
   "source": [
    "make_copies = True\n",
    "summary_dir = f'2021/summary/2021-01_images'\n",
    "days_of_month = 31\n",
    "rootdir = f\"../../Genuary_2021\"\n",
    "#copy_daily_sketches_to_month_summary(input_images_dir, summary_dir, days_of_month)\n",
    "for path in Path(rootdir).iterdir():\n",
    "    if path.is_dir():\n",
    "        #print(path)\n",
    "        p = Path(f\"{path}/images\").rglob(\"keep0.*\")\n",
    "        files = [x for x in p if x.is_file()]\n",
    "        if files:\n",
    "            orig_file = files[0]\n",
    "            dest_file = Path(f\"{summary_dir}/{path.name}_{orig_file.name}\")\n",
    "            if make_copies:                          \n",
    "                shutil.copy(orig_file, dest_file)  # copy the file...\n",
    "            print(f'Will be copied to {dest_file}')\n",
    "            \n",
    "        else: #there is no keep0, so let's get the imagefile with the latest timestamp\n",
    "            #print(f'Nothing found in {path}...')\n",
    "            p = Path(f\"{path}/images\").rglob(\"*.*\")\n",
    "        #print(p.name)\n",
    "            allfiles = [x for x in p if x.is_file()]\n",
    "            if allfiles:\n",
    "                _times = [fname.stat().st_ctime for fname in allfiles]\n",
    "                file_index = _times.index(max(_times))\n",
    "                orig_file = allfiles[file_index]\n",
    "                #print(orig_file)\n",
    "                dest_file = Path(f\"{summary_dir}/{path.name}_{orig_file.name}\")\n",
    "                if make_copies:                          \n",
    "                    shutil.copy(orig_file, dest_file)  # copy the file...\n",
    "                print(f'Will be copied to {dest_file}')\n",
    "\n"
   ]
  },
  {
   "cell_type": "code",
   "execution_count": null,
   "metadata": {},
   "outputs": [],
   "source": []
  },
  {
   "cell_type": "code",
   "execution_count": 8,
   "metadata": {},
   "outputs": [
    {
     "data": {
      "text/plain": [
       "[WindowsPath('2021/summary/2021-03_images/keep0.mp4'),\n",
       " WindowsPath('2021/summary/2021-03_images/keep0.png'),\n",
       " WindowsPath('2021/summary/2021-03_images/keep0_2021-03-01.png'),\n",
       " WindowsPath('2021/summary/2021-03_images/keep_2021-3-10-22-23-0-1959.png'),\n",
       " WindowsPath('2021/summary/2021-03_images/keep_2021-3-10-8-58-4-3773.png'),\n",
       " WindowsPath('2021/summary/2021-03_images/keep_2021-3-12-19-38-20-2825.png'),\n",
       " WindowsPath('2021/summary/2021-03_images/keep_2021-3-12-9-43-25-1946.png'),\n",
       " WindowsPath('2021/summary/2021-03_images/keep_2021-3-13-23-51-51-3510.png'),\n",
       " WindowsPath('2021/summary/2021-03_images/keep_2021-3-15-10-50-26-4868.png'),\n",
       " WindowsPath('2021/summary/2021-03_images/keep_2021-3-15-22-43-2-4944.png'),\n",
       " WindowsPath('2021/summary/2021-03_images/keep_2021-3-17-22-39-47-16001.png'),\n",
       " WindowsPath('2021/summary/2021-03_images/keep_2021-3-17-9-58-46-3383.png'),\n",
       " WindowsPath('2021/summary/2021-03_images/keep_2021-3-18-21-44-41-4791.png'),\n",
       " WindowsPath('2021/summary/2021-03_images/keep_2021-3-19-17-18-6-3502.png'),\n",
       " WindowsPath('2021/summary/2021-03_images/keep_2021-3-2-16-12-51-4124002.png'),\n",
       " WindowsPath('2021/summary/2021-03_images/keep_2021-3-20-23-21-17-26746.png'),\n",
       " WindowsPath('2021/summary/2021-03_images/keep_2021-3-21-22-27-8-28524.png'),\n",
       " WindowsPath('2021/summary/2021-03_images/keep_2021-3-22-22-12-34-9507.png'),\n",
       " WindowsPath('2021/summary/2021-03_images/keep_2021-3-23-16-55-34-2030.png'),\n",
       " WindowsPath('2021/summary/2021-03_images/keep_2021-3-24-22-40-58-6120.png'),\n",
       " WindowsPath('2021/summary/2021-03_images/keep_2021-3-25-23-15-49-10181.png'),\n",
       " WindowsPath('2021/summary/2021-03_images/keep_2021-3-27-9-45-55-15010.png'),\n",
       " WindowsPath('2021/summary/2021-03_images/keep_2021-3-29-22-57-54-4187.png'),\n",
       " WindowsPath('2021/summary/2021-03_images/keep_2021-3-29-9-49-5-18548.png'),\n",
       " WindowsPath('2021/summary/2021-03_images/keep_2021-3-30-23-10-8-4160.png'),\n",
       " WindowsPath('2021/summary/2021-03_images/keep_2021-3-31-23-29-58-3875.png'),\n",
       " WindowsPath('2021/summary/2021-03_images/keep_2021-3-4-10-6-36.png'),\n",
       " WindowsPath('2021/summary/2021-03_images/keep_2021-3-5-15-31-9-16133.png'),\n",
       " WindowsPath('2021/summary/2021-03_images/keep_2021-3-5-9-49-23-9810.png'),\n",
       " WindowsPath('2021/summary/2021-03_images/keep_2021-3-7-11-59-44-2937.png'),\n",
       " WindowsPath('2021/summary/2021-03_images/keep_2021-3-8-19-19-22-2240.png'),\n",
       " WindowsPath('2021/summary/2021-03_images/keep_2021-3-8-23-8-23-2467.png')]"
      ]
     },
     "execution_count": 8,
     "metadata": {},
     "output_type": "execute_result"
    }
   ],
   "source": [
    "list(Path(summary_dir).iterdir())"
   ]
  },
  {
   "cell_type": "markdown",
   "metadata": {},
   "source": [
    "### TimeStamp Related"
   ]
  },
  {
   "cell_type": "code",
   "execution_count": null,
   "metadata": {
    "scrolled": true
   },
   "outputs": [],
   "source": [
    "_times = [fname.stat().st_ctime for fname in files]\n",
    "_times"
   ]
  },
  {
   "cell_type": "code",
   "execution_count": null,
   "metadata": {
    "scrolled": true
   },
   "outputs": [],
   "source": [
    "_times.index(max(_times))"
   ]
  },
  {
   "cell_type": "code",
   "execution_count": null,
   "metadata": {
    "scrolled": true
   },
   "outputs": [],
   "source": [
    "files[1].name"
   ]
  },
  {
   "cell_type": "code",
   "execution_count": null,
   "metadata": {
    "scrolled": true
   },
   "outputs": [],
   "source": [
    "import sys\n",
    "sys.version"
   ]
  },
  {
   "cell_type": "code",
   "execution_count": null,
   "metadata": {
    "scrolled": true
   },
   "outputs": [],
   "source": []
  }
 ],
 "metadata": {
  "kernelspec": {
   "display_name": "Python 3",
   "language": "python",
   "name": "python3"
  },
  "language_info": {
   "codemirror_mode": {
    "name": "ipython",
    "version": 3
   },
   "file_extension": ".py",
   "mimetype": "text/x-python",
   "name": "python",
   "nbconvert_exporter": "python",
   "pygments_lexer": "ipython3",
   "version": "3.7.4"
  }
 },
 "nbformat": 4,
 "nbformat_minor": 4
}
